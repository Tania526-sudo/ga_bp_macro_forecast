{
  "cells": [
    {
      "cell_type": "markdown",
      "id": "8dca1dc5",
      "metadata": {
        "id": "8dca1dc5"
      },
      "source": [
        "# Lab #6: ANFIS for Option #1"
      ]
    },
    {
      "cell_type": "code",
      "execution_count": 96,
      "id": "2ee8423a",
      "metadata": {
        "colab": {
          "base_uri": "https://localhost:8080/",
          "height": 206
        },
        "id": "2ee8423a",
        "outputId": "da555f2b-3f49-405b-97a6-f53e161806c8"
      },
      "outputs": [
        {
          "output_type": "execute_result",
          "data": {
            "text/plain": [
              "       IOC(0)      IPC(0)    KVVE(-7)      M2(-7)    IPC(+1)\n",
              "0  194.935538   78.736345  473.803230  332.750702  54.243290\n",
              "1  127.479018  124.653052  456.118962  271.936792  51.657539\n",
              "2  177.933181   70.042578  402.224072  251.223605  45.041167\n",
              "3  109.042026   86.984651  445.323028  248.314053  45.660932\n",
              "4  185.730950  126.994302  403.381931  330.144884  57.520285"
            ],
            "text/html": [
              "\n",
              "  <div id=\"df-c9731ca8-fec0-4da5-925f-aebeb0131fd9\" class=\"colab-df-container\">\n",
              "    <div>\n",
              "<style scoped>\n",
              "    .dataframe tbody tr th:only-of-type {\n",
              "        vertical-align: middle;\n",
              "    }\n",
              "\n",
              "    .dataframe tbody tr th {\n",
              "        vertical-align: top;\n",
              "    }\n",
              "\n",
              "    .dataframe thead th {\n",
              "        text-align: right;\n",
              "    }\n",
              "</style>\n",
              "<table border=\"1\" class=\"dataframe\">\n",
              "  <thead>\n",
              "    <tr style=\"text-align: right;\">\n",
              "      <th></th>\n",
              "      <th>IOC(0)</th>\n",
              "      <th>IPC(0)</th>\n",
              "      <th>KVVE(-7)</th>\n",
              "      <th>M2(-7)</th>\n",
              "      <th>IPC(+1)</th>\n",
              "    </tr>\n",
              "  </thead>\n",
              "  <tbody>\n",
              "    <tr>\n",
              "      <th>0</th>\n",
              "      <td>194.935538</td>\n",
              "      <td>78.736345</td>\n",
              "      <td>473.803230</td>\n",
              "      <td>332.750702</td>\n",
              "      <td>54.243290</td>\n",
              "    </tr>\n",
              "    <tr>\n",
              "      <th>1</th>\n",
              "      <td>127.479018</td>\n",
              "      <td>124.653052</td>\n",
              "      <td>456.118962</td>\n",
              "      <td>271.936792</td>\n",
              "      <td>51.657539</td>\n",
              "    </tr>\n",
              "    <tr>\n",
              "      <th>2</th>\n",
              "      <td>177.933181</td>\n",
              "      <td>70.042578</td>\n",
              "      <td>402.224072</td>\n",
              "      <td>251.223605</td>\n",
              "      <td>45.041167</td>\n",
              "    </tr>\n",
              "    <tr>\n",
              "      <th>3</th>\n",
              "      <td>109.042026</td>\n",
              "      <td>86.984651</td>\n",
              "      <td>445.323028</td>\n",
              "      <td>248.314053</td>\n",
              "      <td>45.660932</td>\n",
              "    </tr>\n",
              "    <tr>\n",
              "      <th>4</th>\n",
              "      <td>185.730950</td>\n",
              "      <td>126.994302</td>\n",
              "      <td>403.381931</td>\n",
              "      <td>330.144884</td>\n",
              "      <td>57.520285</td>\n",
              "    </tr>\n",
              "  </tbody>\n",
              "</table>\n",
              "</div>\n",
              "    <div class=\"colab-df-buttons\">\n",
              "\n",
              "  <div class=\"colab-df-container\">\n",
              "    <button class=\"colab-df-convert\" onclick=\"convertToInteractive('df-c9731ca8-fec0-4da5-925f-aebeb0131fd9')\"\n",
              "            title=\"Convert this dataframe to an interactive table.\"\n",
              "            style=\"display:none;\">\n",
              "\n",
              "  <svg xmlns=\"http://www.w3.org/2000/svg\" height=\"24px\" viewBox=\"0 -960 960 960\">\n",
              "    <path d=\"M120-120v-720h720v720H120Zm60-500h600v-160H180v160Zm220 220h160v-160H400v160Zm0 220h160v-160H400v160ZM180-400h160v-160H180v160Zm440 0h160v-160H620v160ZM180-180h160v-160H180v160Zm440 0h160v-160H620v160Z\"/>\n",
              "  </svg>\n",
              "    </button>\n",
              "\n",
              "  <style>\n",
              "    .colab-df-container {\n",
              "      display:flex;\n",
              "      gap: 12px;\n",
              "    }\n",
              "\n",
              "    .colab-df-convert {\n",
              "      background-color: #E8F0FE;\n",
              "      border: none;\n",
              "      border-radius: 50%;\n",
              "      cursor: pointer;\n",
              "      display: none;\n",
              "      fill: #1967D2;\n",
              "      height: 32px;\n",
              "      padding: 0 0 0 0;\n",
              "      width: 32px;\n",
              "    }\n",
              "\n",
              "    .colab-df-convert:hover {\n",
              "      background-color: #E2EBFA;\n",
              "      box-shadow: 0px 1px 2px rgba(60, 64, 67, 0.3), 0px 1px 3px 1px rgba(60, 64, 67, 0.15);\n",
              "      fill: #174EA6;\n",
              "    }\n",
              "\n",
              "    .colab-df-buttons div {\n",
              "      margin-bottom: 4px;\n",
              "    }\n",
              "\n",
              "    [theme=dark] .colab-df-convert {\n",
              "      background-color: #3B4455;\n",
              "      fill: #D2E3FC;\n",
              "    }\n",
              "\n",
              "    [theme=dark] .colab-df-convert:hover {\n",
              "      background-color: #434B5C;\n",
              "      box-shadow: 0px 1px 3px 1px rgba(0, 0, 0, 0.15);\n",
              "      filter: drop-shadow(0px 1px 2px rgba(0, 0, 0, 0.3));\n",
              "      fill: #FFFFFF;\n",
              "    }\n",
              "  </style>\n",
              "\n",
              "    <script>\n",
              "      const buttonEl =\n",
              "        document.querySelector('#df-c9731ca8-fec0-4da5-925f-aebeb0131fd9 button.colab-df-convert');\n",
              "      buttonEl.style.display =\n",
              "        google.colab.kernel.accessAllowed ? 'block' : 'none';\n",
              "\n",
              "      async function convertToInteractive(key) {\n",
              "        const element = document.querySelector('#df-c9731ca8-fec0-4da5-925f-aebeb0131fd9');\n",
              "        const dataTable =\n",
              "          await google.colab.kernel.invokeFunction('convertToInteractive',\n",
              "                                                    [key], {});\n",
              "        if (!dataTable) return;\n",
              "\n",
              "        const docLinkHtml = 'Like what you see? Visit the ' +\n",
              "          '<a target=\"_blank\" href=https://colab.research.google.com/notebooks/data_table.ipynb>data table notebook</a>'\n",
              "          + ' to learn more about interactive tables.';\n",
              "        element.innerHTML = '';\n",
              "        dataTable['output_type'] = 'display_data';\n",
              "        await google.colab.output.renderOutput(dataTable, element);\n",
              "        const docLink = document.createElement('div');\n",
              "        docLink.innerHTML = docLinkHtml;\n",
              "        element.appendChild(docLink);\n",
              "      }\n",
              "    </script>\n",
              "  </div>\n",
              "\n",
              "\n",
              "    <div id=\"df-1517f3c1-d9a0-4c64-8c1e-a3f65c69c7c8\">\n",
              "      <button class=\"colab-df-quickchart\" onclick=\"quickchart('df-1517f3c1-d9a0-4c64-8c1e-a3f65c69c7c8')\"\n",
              "                title=\"Suggest charts\"\n",
              "                style=\"display:none;\">\n",
              "\n",
              "<svg xmlns=\"http://www.w3.org/2000/svg\" height=\"24px\"viewBox=\"0 0 24 24\"\n",
              "     width=\"24px\">\n",
              "    <g>\n",
              "        <path d=\"M19 3H5c-1.1 0-2 .9-2 2v14c0 1.1.9 2 2 2h14c1.1 0 2-.9 2-2V5c0-1.1-.9-2-2-2zM9 17H7v-7h2v7zm4 0h-2V7h2v10zm4 0h-2v-4h2v4z\"/>\n",
              "    </g>\n",
              "</svg>\n",
              "      </button>\n",
              "\n",
              "<style>\n",
              "  .colab-df-quickchart {\n",
              "      --bg-color: #E8F0FE;\n",
              "      --fill-color: #1967D2;\n",
              "      --hover-bg-color: #E2EBFA;\n",
              "      --hover-fill-color: #174EA6;\n",
              "      --disabled-fill-color: #AAA;\n",
              "      --disabled-bg-color: #DDD;\n",
              "  }\n",
              "\n",
              "  [theme=dark] .colab-df-quickchart {\n",
              "      --bg-color: #3B4455;\n",
              "      --fill-color: #D2E3FC;\n",
              "      --hover-bg-color: #434B5C;\n",
              "      --hover-fill-color: #FFFFFF;\n",
              "      --disabled-bg-color: #3B4455;\n",
              "      --disabled-fill-color: #666;\n",
              "  }\n",
              "\n",
              "  .colab-df-quickchart {\n",
              "    background-color: var(--bg-color);\n",
              "    border: none;\n",
              "    border-radius: 50%;\n",
              "    cursor: pointer;\n",
              "    display: none;\n",
              "    fill: var(--fill-color);\n",
              "    height: 32px;\n",
              "    padding: 0;\n",
              "    width: 32px;\n",
              "  }\n",
              "\n",
              "  .colab-df-quickchart:hover {\n",
              "    background-color: var(--hover-bg-color);\n",
              "    box-shadow: 0 1px 2px rgba(60, 64, 67, 0.3), 0 1px 3px 1px rgba(60, 64, 67, 0.15);\n",
              "    fill: var(--button-hover-fill-color);\n",
              "  }\n",
              "\n",
              "  .colab-df-quickchart-complete:disabled,\n",
              "  .colab-df-quickchart-complete:disabled:hover {\n",
              "    background-color: var(--disabled-bg-color);\n",
              "    fill: var(--disabled-fill-color);\n",
              "    box-shadow: none;\n",
              "  }\n",
              "\n",
              "  .colab-df-spinner {\n",
              "    border: 2px solid var(--fill-color);\n",
              "    border-color: transparent;\n",
              "    border-bottom-color: var(--fill-color);\n",
              "    animation:\n",
              "      spin 1s steps(1) infinite;\n",
              "  }\n",
              "\n",
              "  @keyframes spin {\n",
              "    0% {\n",
              "      border-color: transparent;\n",
              "      border-bottom-color: var(--fill-color);\n",
              "      border-left-color: var(--fill-color);\n",
              "    }\n",
              "    20% {\n",
              "      border-color: transparent;\n",
              "      border-left-color: var(--fill-color);\n",
              "      border-top-color: var(--fill-color);\n",
              "    }\n",
              "    30% {\n",
              "      border-color: transparent;\n",
              "      border-left-color: var(--fill-color);\n",
              "      border-top-color: var(--fill-color);\n",
              "      border-right-color: var(--fill-color);\n",
              "    }\n",
              "    40% {\n",
              "      border-color: transparent;\n",
              "      border-right-color: var(--fill-color);\n",
              "      border-top-color: var(--fill-color);\n",
              "    }\n",
              "    60% {\n",
              "      border-color: transparent;\n",
              "      border-right-color: var(--fill-color);\n",
              "    }\n",
              "    80% {\n",
              "      border-color: transparent;\n",
              "      border-right-color: var(--fill-color);\n",
              "      border-bottom-color: var(--fill-color);\n",
              "    }\n",
              "    90% {\n",
              "      border-color: transparent;\n",
              "      border-bottom-color: var(--fill-color);\n",
              "    }\n",
              "  }\n",
              "</style>\n",
              "\n",
              "      <script>\n",
              "        async function quickchart(key) {\n",
              "          const quickchartButtonEl =\n",
              "            document.querySelector('#' + key + ' button');\n",
              "          quickchartButtonEl.disabled = true;  // To prevent multiple clicks.\n",
              "          quickchartButtonEl.classList.add('colab-df-spinner');\n",
              "          try {\n",
              "            const charts = await google.colab.kernel.invokeFunction(\n",
              "                'suggestCharts', [key], {});\n",
              "          } catch (error) {\n",
              "            console.error('Error during call to suggestCharts:', error);\n",
              "          }\n",
              "          quickchartButtonEl.classList.remove('colab-df-spinner');\n",
              "          quickchartButtonEl.classList.add('colab-df-quickchart-complete');\n",
              "        }\n",
              "        (() => {\n",
              "          let quickchartButtonEl =\n",
              "            document.querySelector('#df-1517f3c1-d9a0-4c64-8c1e-a3f65c69c7c8 button');\n",
              "          quickchartButtonEl.style.display =\n",
              "            google.colab.kernel.accessAllowed ? 'block' : 'none';\n",
              "        })();\n",
              "      </script>\n",
              "    </div>\n",
              "    </div>\n",
              "  </div>\n"
            ],
            "application/vnd.google.colaboratory.intrinsic+json": {
              "type": "dataframe",
              "variable_name": "df",
              "summary": "{\n  \"name\": \"df\",\n  \"rows\": 100,\n  \"fields\": [\n    {\n      \"column\": \"IOC(0)\",\n      \"properties\": {\n        \"dtype\": \"number\",\n        \"std\": 27.753680857286266,\n        \"min\": 100.2654517634995,\n        \"max\": 197.5977961892605,\n        \"num_unique_values\": 100,\n        \"samples\": [\n          138.37359390366217,\n          131.17606485956807,\n          121.3858518937798\n        ],\n        \"semantic_type\": \"\",\n        \"description\": \"\"\n      }\n    },\n    {\n      \"column\": \"IPC(0)\",\n      \"properties\": {\n        \"dtype\": \"number\",\n        \"std\": 28.310322641417287,\n        \"min\": 51.39823719476809,\n        \"max\": 145.63968577433218,\n        \"num_unique_values\": 100,\n        \"samples\": [\n          95.3023109133262,\n          96.33212695805702,\n          128.21646649495938\n        ],\n        \"semantic_type\": \"\",\n        \"description\": \"\"\n      }\n    },\n    {\n      \"column\": \"KVVE(-7)\",\n      \"properties\": {\n        \"dtype\": \"number\",\n        \"std\": 58.75513434134707,\n        \"min\": 301.61304403383,\n        \"max\": 498.3378119758398,\n        \"num_unique_values\": 100,\n        \"samples\": [\n          434.94382561930746,\n          303.9341399020278,\n          493.5219459505973\n        ],\n        \"semantic_type\": \"\",\n        \"description\": \"\"\n      }\n    },\n    {\n      \"column\": \"M2(-7)\",\n      \"properties\": {\n        \"dtype\": \"number\",\n        \"std\": 62.026008018915284,\n        \"min\": 201.7192035204132,\n        \"max\": 397.5388421231008,\n        \"num_unique_values\": 100,\n        \"samples\": [\n          222.16929117291107,\n          392.7490804258805,\n          246.8018389798441\n        ],\n        \"semantic_type\": \"\",\n        \"description\": \"\"\n      }\n    },\n    {\n      \"column\": \"IPC(+1)\",\n      \"properties\": {\n        \"dtype\": \"number\",\n        \"std\": 5.7084779853410765,\n        \"min\": 34.857785990596675,\n        \"max\": 60.957460088049295,\n        \"num_unique_values\": 100,\n        \"samples\": [\n          48.47860691133111,\n          45.72347384777279,\n          47.625164317744414\n        ],\n        \"semantic_type\": \"\",\n        \"description\": \"\"\n      }\n    }\n  ]\n}"
            }
          },
          "metadata": {},
          "execution_count": 96
        }
      ],
      "source": [
        "df = pd.read_csv(\"anfis_variant1_data.csv\")\n",
        "df.head()\n"
      ]
    },
    {
      "cell_type": "code",
      "execution_count": 97,
      "id": "6f9f0cc0",
      "metadata": {
        "id": "6f9f0cc0"
      },
      "outputs": [],
      "source": [
        "X = df[['IOC(0)', 'IPC(0)', 'KVVE(-7)', 'M2(-7)']].values\n",
        "y = df['IPC(+1)'].values\n",
        "\n",
        "X_train, X_test, y_train, y_test = train_test_split(X, y, test_size=0.2, random_state=42)\n"
      ]
    },
    {
      "cell_type": "code",
      "source": [
        "import numpy as np\n",
        "import pandas as pd\n",
        "import torch\n",
        "import torch.nn as nn\n",
        "import torch.optim as optim\n",
        "from sklearn.metrics import mean_squared_error\n",
        "from sklearn.model_selection import train_test_split\n",
        "import matplotlib.pyplot as plt"
      ],
      "metadata": {
        "id": "41IYAlDREsyK"
      },
      "id": "41IYAlDREsyK",
      "execution_count": 98,
      "outputs": []
    },
    {
      "cell_type": "code",
      "source": [
        "print(df.columns)"
      ],
      "metadata": {
        "colab": {
          "base_uri": "https://localhost:8080/"
        },
        "id": "Dgx8qNQTE8Oq",
        "outputId": "94161881-3fe6-4db5-f4f6-faa3718c3a4d"
      },
      "id": "Dgx8qNQTE8Oq",
      "execution_count": 99,
      "outputs": [
        {
          "output_type": "stream",
          "name": "stdout",
          "text": [
            "Index(['IOC(0)', 'IPC(0)', 'KVVE(-7)', 'M2(-7)', 'IPC(+1)'], dtype='object')\n"
          ]
        }
      ]
    },
    {
      "cell_type": "code",
      "source": [
        "df = pd.read_csv(\"anfis_variant1_data.csv\")\n",
        "\n",
        "\n",
        "from sklearn.preprocessing import MinMaxScaler\n",
        "\n",
        "\n",
        "X_raw = df.drop(columns=[\"IPC(+1)\"]).values\n",
        "y_raw = df[\"IPC(+1)\"].values.reshape(-1, 1)\n",
        "\n",
        "\n",
        "x_scaler = MinMaxScaler()\n",
        "y_scaler = MinMaxScaler()\n",
        "\n",
        "X_scaled = x_scaler.fit_transform(X_raw)\n",
        "y_scaled = y_scaler.fit_transform(y_raw).flatten()\n",
        "\n",
        "\n",
        "from sklearn.model_selection import train_test_split\n",
        "\n",
        "X_train, X_test, y_train, y_test = train_test_split(\n",
        "    X_scaled, y_scaled, test_size=0.2, random_state=42\n",
        ")\n",
        "\n",
        "\n",
        "X_train_tensor = torch.tensor(X_train, dtype=torch.float32)\n",
        "X_test_tensor = torch.tensor(X_test, dtype=torch.float32)\n",
        "y_train_tensor = torch.tensor(y_train, dtype=torch.float32).view(-1, 1)\n",
        "y_test_tensor = torch.tensor(y_test, dtype=torch.float32).view(-1, 1)\n",
        "\n",
        "with torch.no_grad():\n",
        "    y_pred = model(X_test_tensor).numpy().flatten()\n",
        "    y_pred_inv = y_scaler.inverse_transform(y_pred.reshape(-1, 1)).flatten()\n",
        "    y_test_inv = y_scaler.inverse_transform(y_test_tensor.numpy()).flatten()"
      ],
      "metadata": {
        "id": "toxHbwYFEsv0"
      },
      "id": "toxHbwYFEsv0",
      "execution_count": 100,
      "outputs": []
    },
    {
      "cell_type": "code",
      "source": [
        "class BellMembFunc(nn.Module):\n",
        "    def __init__(self, a, b, c):\n",
        "        super().__init__()\n",
        "        self.a = nn.Parameter(torch.tensor(a, dtype=torch.float32))\n",
        "        self.b = nn.Parameter(torch.tensor(b, dtype=torch.float32))\n",
        "        self.c = nn.Parameter(torch.tensor(c, dtype=torch.float32))\n",
        "\n",
        "    def forward(self, x):\n",
        "        return 1 / (1 + torch.abs((x - self.c) / self.a) ** (2 * self.b))"
      ],
      "metadata": {
        "id": "8WaTbWYFEsts"
      },
      "id": "8WaTbWYFEsts",
      "execution_count": 101,
      "outputs": []
    },
    {
      "cell_type": "code",
      "source": [
        "class FuzzifyVariable(nn.Module):\n",
        "    def __init__(self, mfs):\n",
        "        super().__init__()\n",
        "        self.mfs = nn.ModuleList(mfs)\n",
        "\n",
        "    def forward(self, x):\n",
        "        return torch.stack([mf(x) for mf in self.mfs], dim=1)"
      ],
      "metadata": {
        "id": "5d7mD0e9Esri"
      },
      "id": "5d7mD0e9Esri",
      "execution_count": 102,
      "outputs": []
    },
    {
      "cell_type": "code",
      "source": [
        "class FuzzifyLayer(nn.Module):\n",
        "    def __init__(self, mfdefs, varnames):\n",
        "        super().__init__()\n",
        "        self.vars = nn.ModuleDict({\n",
        "            name: FuzzifyVariable(mfs) for name, mfs in zip(varnames, mfdefs)\n",
        "        })\n",
        "\n",
        "    def forward(self, x):\n",
        "        outputs = []\n",
        "        for i, key in enumerate(self.vars.keys()):\n",
        "            outputs.append(self.vars[key](x[:, i:i+1]))\n",
        "        return torch.cat(outputs, dim=1)"
      ],
      "metadata": {
        "id": "ScifCjCMEspa"
      },
      "id": "ScifCjCMEspa",
      "execution_count": 103,
      "outputs": []
    },
    {
      "cell_type": "code",
      "source": [
        "class AntecedentLayer(nn.Module):\n",
        "    def __init__(self, mfdefs):\n",
        "        super().__init__()\n",
        "        self.mfdefs = mfdefs\n",
        "\n",
        "    def forward(self, x):\n",
        "        batch_size = x.size(0)\n",
        "\n",
        "        activations = []\n",
        "        for i, mfs in enumerate(self.mfdefs):\n",
        "            mf_vals = [mf(x[:, i:i+1]) for mf in mfs]\n",
        "            acts = torch.cat(mf_vals, dim=1)\n",
        "            activations.append(acts)\n",
        "\n",
        "\n",
        "\n",
        "        result = activations[0]  # (batch, m1)\n",
        "\n",
        "        for i in range(1, len(activations)):\n",
        "            a = result.unsqueeze(2)                  # (batch, m1*m2*..., 1)\n",
        "            b = activations[i].unsqueeze(1)          # (batch, 1, mi)\n",
        "            result = (a * b).reshape(batch_size, -1) # (batch, m1*m2*...*mi)\n",
        "\n",
        "        return result  # (batch, num_rules)"
      ],
      "metadata": {
        "id": "hqGr-ixTEsnD"
      },
      "id": "hqGr-ixTEsnD",
      "execution_count": 104,
      "outputs": []
    },
    {
      "cell_type": "code",
      "source": [
        "class PlainConsequentLayer(nn.Module):\n",
        "    def __init__(self, in_features, num_rules, out_features):\n",
        "        super().__init__()\n",
        "        self.linear = nn.Linear(in_features * num_rules, out_features)\n",
        "\n",
        "    def forward(self, x):\n",
        "        batch_size = x.size(0)\n",
        "        x = x.view(batch_size, -1)  # (batch_size, num_rules * in_features)\n",
        "        return self.linear(x)"
      ],
      "metadata": {
        "id": "EUMvdw_LEskr"
      },
      "id": "EUMvdw_LEskr",
      "execution_count": 105,
      "outputs": []
    },
    {
      "cell_type": "code",
      "source": [
        "from collections import OrderedDict\n",
        "\n",
        "class AnfisNet(nn.Module):\n",
        "    def __init__(self, description, invardefs, outvarnames):\n",
        "        super().__init__()\n",
        "        self.description = description\n",
        "        self.outvarnames = outvarnames\n",
        "\n",
        "        varnames = [v for v, _ in invardefs]\n",
        "        mfdefs = [mfs for _, mfs in invardefs]\n",
        "\n",
        "        self.num_in = len(invardefs)\n",
        "        self.num_rules = np.prod([len(mfs) for mfs in mfdefs])\n",
        "        self.num_out = len(outvarnames)\n",
        "\n",
        "        self.layer = nn.ModuleDict(OrderedDict([\n",
        "            (\"fuzzify\", FuzzifyLayer(mfdefs, varnames)),\n",
        "            (\"rules\", AntecedentLayer(mfdefs)),\n",
        "            (\"consequent\", PlainConsequentLayer(self.num_in, self.num_rules, self.num_out))\n",
        "        ]))\n",
        "\n",
        "    def forward(self, x):\n",
        "        mu = self.layer[\"rules\"](x)           # (batch_size, num_rules)\n",
        "        mu_exp = mu.unsqueeze(-1)             # (batch_size, num_rules, 1)\n",
        "        x_exp = x.unsqueeze(1)                # (batch_size, 1, num_inputs)\n",
        "        weighted_x = mu_exp * x_exp           # (batch_size, num_rules, num_inputs)\n",
        "        output = self.layer[\"consequent\"](weighted_x)  # (batch_size, num_outputs)\n",
        "        return output"
      ],
      "metadata": {
        "id": "IWZdjotoEsiL"
      },
      "id": "IWZdjotoEsiL",
      "execution_count": 106,
      "outputs": []
    },
    {
      "cell_type": "code",
      "source": [
        "def train_anfis_model(n_rules):\n",
        "\n",
        "    n_mfs_per_input = 3\n",
        "\n",
        "\n",
        "    input_mfs = []\n",
        "    for _ in range(X.shape[1]):\n",
        "        input_mfs.append([\n",
        "            BellMembFunc(a=1.0, b=1.0, c=np.random.uniform(0.2, 0.8))\n",
        "            for _ in range(n_mfs_per_input)\n",
        "        ])\n",
        "\n",
        "\n",
        "    invardefs = [(f'x{i}', input_mfs[i]) for i in range(X.shape[1])]\n",
        "    outvarnames = ['y']\n",
        "    description = f\"ANFIS with {n_mfs_per_input}^{X.shape[1]} = {n_mfs_per_input ** X.shape[1]} rules\"\n",
        "\n",
        "\n",
        "    model = AnfisNet(description=description, invardefs=invardefs, outvarnames=outvarnames)\n",
        "\n",
        "    optimizer = optim.Adam(model.parameters(), lr=0.05, betas=(0.1, 0.05))\n",
        "    criterion = nn.MSELoss()\n",
        "    n_epochs = 300\n",
        "    loss_history = []\n",
        "\n",
        "    for epoch in range(n_epochs):\n",
        "        model.train()\n",
        "        optimizer.zero_grad()\n",
        "        y_pred = model(X_train_tensor)\n",
        "        loss = criterion(y_pred, y_train_tensor)\n",
        "        loss.backward()\n",
        "        optimizer.step()\n",
        "        loss_history.append(loss.item())\n",
        "\n",
        "    return model, loss_history"
      ],
      "metadata": {
        "id": "pakCYNbBEsf6"
      },
      "id": "pakCYNbBEsf6",
      "execution_count": 107,
      "outputs": []
    },
    {
      "cell_type": "code",
      "source": [
        "results = {}\n",
        "\n",
        "for n_rules in [10, 20, 40]:\n",
        "    print(f\"\\nTraining a model with {n_rules} by the rules...\")\n",
        "    model, loss_history = train_anfis_model(n_rules)\n",
        "\n",
        "    with torch.no_grad():\n",
        "        y_pred = model(X_test_tensor).numpy().flatten()\n",
        "        mse = mean_squared_error(y_test, y_pred)\n",
        "\n",
        "    results[n_rules] = {\n",
        "        \"model\": model,\n",
        "        \"loss\": loss_history,\n",
        "        \"mse\": mse\n",
        "    }\n",
        "\n",
        "    print(f\"Number of rules: {n_rules}, MSE: {mse:.4f}\")"
      ],
      "metadata": {
        "colab": {
          "base_uri": "https://localhost:8080/"
        },
        "id": "iOMSAxbdEsdb",
        "outputId": "2cd72b3b-f0f5-4a51-b17a-71edb4b3b8d1"
      },
      "id": "iOMSAxbdEsdb",
      "execution_count": 108,
      "outputs": [
        {
          "output_type": "stream",
          "name": "stdout",
          "text": [
            "\n",
            "Training a model with 10 by the rules...\n",
            "Number of rules: 10, MSE: 0.0144\n",
            "\n",
            "Training a model with 20 by the rules...\n",
            "Number of rules: 20, MSE: 0.0215\n",
            "\n",
            "Training a model with 40 by the rules...\n",
            "Number of rules: 40, MSE: 0.0214\n"
          ]
        }
      ]
    },
    {
      "cell_type": "code",
      "source": [
        "import matplotlib.pyplot as plt\n",
        "\n",
        "plt.figure(figsize=(10, 6))\n",
        "for n_rules, data in results.items():\n",
        "    plt.plot(data[\"loss\"], label=f\"{n_rules} rules\")\n",
        "\n",
        "plt.title(\"Plot of the loss function (MSE Loss) during training\")\n",
        "plt.xlabel(\"Epoch\")\n",
        "plt.ylabel(\"Loss\")\n",
        "plt.legend()\n",
        "plt.grid(True)\n",
        "plt.show()"
      ],
      "metadata": {
        "colab": {
          "base_uri": "https://localhost:8080/",
          "height": 564
        },
        "id": "uu6Ri2FnEsbS",
        "outputId": "5237ea2f-25a8-40e0-aa5a-ca438c97cdcc"
      },
      "id": "uu6Ri2FnEsbS",
      "execution_count": 109,
      "outputs": [
        {
          "output_type": "display_data",
          "data": {
            "text/plain": [
              "<Figure size 1000x600 with 1 Axes>"
            ],
            "image/png": "[encoded data removed]"
          },
          "metadata": {}
        }
      ]
    },
    {
      "cell_type": "code",
      "source": [
        "best_n = min(results, key=lambda r: results[r][\"mse\"])\n",
        "best_model = results[best_n][\"model\"]\n",
        "\n",
        "print(f\"\\nBest model: {best_n} rules, MSE = {results[best_n]['mse']:.4f}\")"
      ],
      "metadata": {
        "colab": {
          "base_uri": "https://localhost:8080/"
        },
        "id": "LMDmHP8EEsYx",
        "outputId": "e2908761-169f-42b9-b4ec-5d67b4c3e839"
      },
      "id": "LMDmHP8EEsYx",
      "execution_count": 110,
      "outputs": [
        {
          "output_type": "stream",
          "name": "stdout",
          "text": [
            "\n",
            "Best model: 10 rules, MSE = 0.0144\n"
          ]
        }
      ]
    },
    {
      "cell_type": "code",
      "source": [
        "plt.figure(figsize=(10, 6))\n",
        "plt.plot(y_test_inv, label=\"Real IPC(+1)\")\n",
        "plt.plot(y_pred_inv, label=\"Predicted IPC(+1)\", linestyle=\"--\")\n",
        "plt.title(f\"Actual vs. Forecasted Values (N={best_n} rules)\")\n",
        "plt.xlabel(\"Example number\")\n",
        "plt.ylabel(\"IPC(+1)\")\n",
        "plt.legend()\n",
        "plt.grid(True)\n",
        "plt.show()"
      ],
      "metadata": {
        "colab": {
          "base_uri": "https://localhost:8080/",
          "height": 564
        },
        "id": "-OuREU-aEsTz",
        "outputId": "3d87bb27-f43b-42a2-e6a6-af89d71fbc24"
      },
      "id": "-OuREU-aEsTz",
      "execution_count": 111,
      "outputs": [
        {
          "output_type": "display_data",
          "data": {
            "text/plain": [
              "<Figure size 1000x600 with 1 Axes>"
            ],
            "image/png": "[encoded data removed]"
          },
          "metadata": {}
        }
      ]
    },
    {
      "cell_type": "code",
      "source": [
        "import pandas as pd\n",
        "\n",
        "df_results = pd.DataFrame({\n",
        "    \"Actual IPC(+1)\": y_test_inv,\n",
        "    \"Predicted IPC(+1)\": y_pred_inv\n",
        "})\n",
        "df_results.to_excel(\"anfis_predictions.xlsx\", index=False)"
      ],
      "metadata": {
        "id": "YqS4qGjXEsRO"
      },
      "id": "YqS4qGjXEsRO",
      "execution_count": 112,
      "outputs": []
    },
    {
      "cell_type": "code",
      "source": [
        "from sklearn.metrics import r2_score, mean_absolute_error\n",
        "\n",
        "print(\"R2 score:\", r2_score(y_test_inv, y_pred_inv))\n",
        "print(\"MAE:\", mean_absolute_error(y_test_inv, y_pred_inv))"
      ],
      "metadata": {
        "colab": {
          "base_uri": "https://localhost:8080/"
        },
        "id": "93xJOwpz9c6K",
        "outputId": "e0f02eae-254f-4845-fe12-c2135116a264"
      },
      "id": "93xJOwpz9c6K",
      "execution_count": 113,
      "outputs": [
        {
          "output_type": "stream",
          "name": "stdout",
          "text": [
            "R2 score: -205.1588592529297\n",
            "MAE: 61.79480743408203\n"
          ]
        }
      ]
    }
  ],
  "metadata": {
    "colab": {
      "provenance": []
    },
    "language_info": {
      "name": "python"
    },
    "kernelspec": {
      "name": "python3",
      "display_name": "Python 3"
    }
  },
  "nbformat": 4,
  "nbformat_minor": 5
}