{
 "cells": [
  {
   "cell_type": "markdown",
   "id": "8dca1dc5",
   "metadata": {},
   "source": [
    "# Лабораторна робота №6: ANFIS для варіанту №1"
   ]
  },
  {
   "cell_type": "code",
   "execution_count": null,
   "id": "db730f68",
   "metadata": {},
   "outputs": [],
   "source": [
    "import pandas as pd\n",
    "import numpy as np\n",
    "from sklearn.model_selection import train_test_split\n",
    "import matplotlib.pyplot as plt\n"
   ]
  },
  {
   "cell_type": "code",
   "execution_count": null,
   "id": "2ee8423a",
   "metadata": {},
   "outputs": [],
   "source": [
    "df = pd.read_csv(\"anfis_variant1_data.csv\")\n",
    "df.head()\n"
   ]
  },
  {
   "cell_type": "code",
   "execution_count": null,
   "id": "6f9f0cc0",
   "metadata": {},
   "outputs": [],
   "source": [
    "X = df[['IOC(0)', 'IPC(0)', 'KVVE(-7)', 'M2(-7)']].values\n",
    "y = df['IPC(+1)'].values\n",
    "\n",
    "X_train, X_test, y_train, y_test = train_test_split(X, y, test_size=0.2, random_state=42)\n"
   ]
  },
  {
   "cell_type": "markdown",
   "id": "1f473ef3",
   "metadata": {},
   "source": [
    "### Подальші кроки:\n",
    "\n",
    "Для реалізації ANFIS у Python можна скористатися бібліотекою `anfis`, наприклад `torch-anfis`. Вона потребує визначення:\n",
    "\n",
    "- функцій належності (membership functions),\n",
    "- нечітких правил,\n",
    "- навчального циклу.\n",
    "\n",
    "Рекомендую встановити бібліотеку `anfis` або `sugeGTD/anfis` (через pip), або ж імпортувати її локально, якщо вона вже у вас є.\n"
   ]
  },
  {
   "cell_type": "markdown",
   "id": "cae5279b",
   "metadata": {},
   "source": [
    "## Навчання ANFIS-моделі з 10, 20 та 40 правилами"
   ]
  },
  {
   "cell_type": "code",
   "execution_count": null,
   "id": "99fb7e31",
   "metadata": {},
   "outputs": [],
   "source": [
    "# Встановлення бібліотеки anfis (якщо потрібно)\n",
    "# pip install git+https://github.com/SantiagoHerre/anfis.git\n",
    "\n",
    "import torch\n",
    "import torch.nn as nn\n",
    "import torch.optim as optim\n",
    "from sklearn.metrics import mean_squared_error\n",
    "\n",
    "from anfis.model import AnfisNet\n",
    "from anfis.membership import BellMembFunc, make_bell_mfs\n",
    "\n",
    "# Підготовка тензорів\n",
    "X_train_tensor = torch.tensor(X_train, dtype=torch.float32)\n",
    "y_train_tensor = torch.tensor(y_train, dtype=torch.float32).view(-1, 1)\n",
    "X_test_tensor = torch.tensor(X_test, dtype=torch.float32)\n",
    "y_test_tensor = torch.tensor(y_test, dtype=torch.float32).view(-1, 1)\n",
    "\n",
    "def train_anfis_model(n_rules):\n",
    "    # Визначення функцій належності (Bell)\n",
    "    input_mfs = []\n",
    "    for i in range(X.shape[1]):\n",
    "        input_mfs.append(\n",
    "            [BellMembFunc(a=1, b=1, c=np.random.rand()*0.5 + 0.5) for _ in range(n_rules)]\n",
    "        )\n",
    "\n",
    "    model = AnfisNet(n_inputs=X.shape[1], n_rules=n_rules, input_mfs=input_mfs)\n",
    "    optimizer = optim.Adam(model.parameters(), lr=0.01)\n",
    "    criterion = nn.MSELoss()\n",
    "\n",
    "    n_epochs = 300\n",
    "    loss_history = []\n",
    "\n",
    "    for epoch in range(n_epochs):\n",
    "        model.train()\n",
    "        optimizer.zero_grad()\n",
    "        y_pred = model(X_train_tensor)\n",
    "        loss = criterion(y_pred, y_train_tensor)\n",
    "        loss.backward()\n",
    "        optimizer.step()\n",
    "        loss_history.append(loss.item())\n",
    "\n",
    "    return model, loss_history\n"
   ]
  },
  {
   "cell_type": "code",
   "execution_count": null,
   "id": "062b8258",
   "metadata": {},
   "outputs": [],
   "source": [
    "# Побудова моделей з різною кількістю правил\n",
    "results = {}\n",
    "for n_rules in [10, 20, 40]:\n",
    "    model, loss_history = train_anfis_model(n_rules)\n",
    "    with torch.no_grad():\n",
    "        y_pred = model(X_test_tensor).numpy().flatten()\n",
    "        mse = mean_squared_error(y_test, y_pred)\n",
    "    results[n_rules] = {\"model\": model, \"loss\": loss_history, \"mse\": mse}\n",
    "    print(f\"Кількість правил: {n_rules}, MSE: {mse:.4f}\")\n"
   ]
  },
  {
   "cell_type": "code",
   "execution_count": null,
   "id": "7d750378",
   "metadata": {},
   "outputs": [],
   "source": [
    "# Візуалізація\n",
    "plt.figure(figsize=(10, 6))\n",
    "for n_rules, res in results.items():\n",
    "    plt.plot(res[\"loss\"], label=f\"{n_rules} правил\")\n",
    "plt.title(\"Зміна MSE loss під час навчання\")\n",
    "plt.xlabel(\"Епоха\")\n",
    "plt.ylabel(\"MSE Loss\")\n",
    "plt.legend()\n",
    "plt.grid(True)\n",
    "plt.show()\n"
   ]
  }
 ],
 "metadata": {},
 "nbformat": 4,
 "nbformat_minor": 5
}