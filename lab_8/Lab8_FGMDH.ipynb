{
 "cells": [
  {
   "cell_type": "markdown",
   "id": "eef9b5df",
   "metadata": {},
   "source": [
    "# Лабораторна робота №8\n",
    "### Нечіткий метод групового урахування аргументів (МГУА)\n",
    "\n",
    "Прогнозування індексу споживчих цін (ІСЦ) з використанням нечіткого підходу."
   ]
  },
  {
   "cell_type": "code",
   "execution_count": null,
   "id": "65a2ad59",
   "metadata": {},
   "outputs": [],
   "source": [
    "import numpy as np\n",
    "import pandas as pd\n",
    "import matplotlib.pyplot as plt\n",
    "from sklearn.linear_model import LinearRegression\n",
    "from sklearn.metrics import mean_squared_error"
   ]
  },
  {
   "cell_type": "code",
   "execution_count": null,
   "id": "96af4079",
   "metadata": {},
   "outputs": [],
   "source": [
    "# Завантаження попередньо конвертованого CSV-файлу\n",
    "file_path = 'data5.csv'\n",
    "df = pd.read_csv(file_path)\n",
    "df = df.dropna()\n",
    "df.head()"
   ]
  },
  {
   "cell_type": "code",
   "execution_count": null,
   "id": "c95cc7ae",
   "metadata": {},
   "outputs": [],
   "source": [
    "# Вибираємо цільову змінну для прогнозу\n",
    "y = df['ІСЦ (+1)'].astype(float).values"
   ]
  },
  {
   "cell_type": "code",
   "execution_count": null,
   "id": "260709bd",
   "metadata": {},
   "outputs": [],
   "source": [
    "def create_lagged_matrix(y, lag):\n",
    "    X, Y = [], []\n",
    "    for i in range(lag, len(y) - 5):\n",
    "        X.append(y[i - lag:i])\n",
    "        Y.append(y[i:i + 5])\n",
    "    return np.array(X), np.array(Y)"
   ]
  },
  {
   "cell_type": "code",
   "execution_count": null,
   "id": "c1d64ac6",
   "metadata": {},
   "outputs": [],
   "source": [
    "def fuzzy_gmdh_model(X_train, Y_train, X_test):\n",
    "    # Просте наближення нечіткого правила через LR на кожен крок\n",
    "    models = [LinearRegression().fit(X_train, Y_train[:, i]) for i in range(5)]\n",
    "    predictions = np.column_stack([m.predict(X_test) for m in models])\n",
    "    return predictions"
   ]
  },
  {
   "cell_type": "code",
   "execution_count": null,
   "id": "6d612770",
   "metadata": {},
   "outputs": [],
   "source": [
    "def run_fuzzy_mgua(y, lag=4, num_models=5):\n",
    "    mse = []\n",
    "    for window_start in range(10):\n",
    "        y_window = y[window_start:window_start + 100]\n",
    "        X, Y = create_lagged_matrix(y_window, lag)\n",
    "\n",
    "        split = len(X) // 2\n",
    "        X_train, Y_train = X[:split], Y[:split]\n",
    "        X_test, Y_test = X[split:], Y[split:]\n",
    "\n",
    "        preds = fuzzy_gmdh_model(X_train, Y_train, X_test)\n",
    "        mse.append(mean_squared_error(Y_test, preds))\n",
    "    return mse"
   ]
  },
  {
   "cell_type": "code",
   "execution_count": null,
   "id": "8e72e7e8",
   "metadata": {},
   "outputs": [],
   "source": [
    "def plot_mse(mse, num_models):\n",
    "    plt.figure(figsize=(10, 5))\n",
    "    plt.plot(mse, label='Без адаптації')\n",
    "    plt.title(f'MSE на 5 точок уперед, нечіткий МГУА, моделей: {num_models}')\n",
    "    plt.xlabel('Номер вікна')\n",
    "    plt.ylabel('СКВ (MSE)')\n",
    "    plt.grid(True)\n",
    "    plt.legend()\n",
    "    plt.show()"
   ]
  },
  {
   "cell_type": "code",
   "execution_count": null,
   "id": "20c8c608",
   "metadata": {},
   "outputs": [],
   "source": [
    "results = {}\n",
    "for models in [5, 6, 7]:\n",
    "    mse = run_fuzzy_mgua(y, lag=4, num_models=models)\n",
    "    results[models] = mse\n",
    "    plot_mse(mse, models)"
   ]
  },
  {
   "cell_type": "code",
   "execution_count": null,
   "id": "93811d16",
   "metadata": {},
   "outputs": [],
   "source": [
    "for models, mse in results.items():\n",
    "    df_out = pd.DataFrame({\n",
    "        'Window': list(range(1, len(mse)+1)),\n",
    "        'MSE': mse\n",
    "    })\n",
    "    df_out.to_excel(f'FGMDH_результати_{models}_моделей.xlsx', index=False)"
   ]
  }
 ],
 "metadata": {},
 "nbformat": 4,
 "nbformat_minor": 5
}
