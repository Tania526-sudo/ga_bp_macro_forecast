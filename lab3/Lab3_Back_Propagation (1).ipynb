
{
 "cells": [
  {
   "cell_type": "markdown",
   "metadata": {},
   "source": [
    "# Лабораторна робота №3\n",
    "### Градієнтний алгоритм навчання нейронної мережі Back Propagation\n",
    "**Мета роботи:** Дослідити ефективність градієнтного алгоритма навчання і порівняти з генетичним алгоритмом."
   ]
  },
  {
   "cell_type": "code",
   "execution_count": null,
   "metadata": {},
   "outputs": [],
   "source": [
    "# --- 1. Імпорт необхідних бібліотек ---\n",
    "import numpy as np\n",
    "import pandas as pd\n",
    "import matplotlib.pyplot as plt\n",
    "import seaborn as sns\n",
    "from sklearn.preprocessing import MinMaxScaler\n",
    "from sklearn.neural_network import MLPRegressor\n",
    "from sklearn.metrics import mean_squared_error"
   ]
  },
  {
   "cell_type": "code",
   "execution_count": null,
   "metadata": {},
   "outputs": [],
   "source": [
    "# --- 2. Генерація штучних даних для варіанта №1 ---\n",
    "np.random.seed(42)\n",
    "n = 50\n",
    "df = pd.DataFrame({\n",
    "    'IOC': np.random.normal(110, 5, n),\n",
    "    'IPC': np.random.normal(110, 6, n),\n",
    "    'KVVE': np.linspace(30000, 46000, n) + np.random.normal(0, 500, n),\n",
    "    'M0': np.linspace(15000, 20000, n) + np.random.normal(0, 200, n),\n",
    "    'M2': np.linspace(40000, 55000, n) + np.random.normal(0, 500, n),\n",
    "})"
   ]
  },
  {
   "cell_type": "code",
   "execution_count": null,
   "metadata": {},
   "outputs": [],
   "source": [
    "# --- 3. Візуалізація даних ---\n",
    "fig, axs = plt.subplots(3, 2, figsize=(14, 10))\n",
    "for i, col in enumerate(['IOC', 'IPC', 'KVVE', 'M0', 'M2']):\n",
    "    ax = axs[i // 2][i % 2]\n",
    "    ax.plot(df[col], label=col, color='orange')\n",
    "    ax.set_title(f"{col} (line graph)")\n",
    "    ax.set_xlabel("Time")\n",
    "    ax.set_ylabel("Value")\n",
    "    ax.legend()\n",
    "sns.heatmap(df.corr(), annot=True, cmap='coolwarm', ax=axs[2][1])\n",
    "axs[2][1].set_title("Correlation matrix")\n",
    "plt.tight_layout()\n",
    "plt.show()"
   ]
  },
  {
   "cell_type": "code",
   "execution_count": null,
   "metadata": {},
   "outputs": [],
   "source": [
    "# --- 4. Формування лагових ознак і цільової змінної IPC(+1) ---\n",
    "data = df.copy()\n",
    "data['IPC(+1)'] = data['IPC'].shift(-1)\n",
    "data = data.dropna().reset_index(drop=True)\n",
    "data = data[['IOC', 'IPC', 'KVVE', 'M0', 'M2', 'IPC(+1)']]"
   ]
  },
  {
   "cell_type": "code",
   "execution_count": null,
   "metadata": {},
   "outputs": [],
   "source": [
    "# --- 5. Навчання моделі по вікнах ---\n",
    "results = []\n",
    "window_size = 12\n",
    "for i in range(10):\n",
    "    window = data.iloc[i:i+window_size]\n",
    "    X = window.drop("IPC(+1)", axis=1).values\n",
    "    y = window["IPC(+1)"].values\n",
    "    scaler_x = MinMaxScaler()\n",
    "    scaler_y = MinMaxScaler()\n",
    "    X_scaled = scaler_x.fit_transform(X)\n",
    "    y_scaled = scaler_y.fit_transform(y.reshape(-1, 1)).flatten()\n",
    "    mlp = MLPRegressor(hidden_layer_sizes=(5,), max_iter=1000, random_state=42)\n",
    "    mlp.fit(X_scaled, y_scaled)\n",
    "    y_pred_scaled = mlp.predict(X_scaled)\n",
    "    y_pred_real = scaler_y.inverse_transform(y_pred_scaled.reshape(-1, 1)).flatten()\n",
    "    mse_real = mean_squared_error(y, y_pred_real)\n",
    "    results.append({\n",
    "        'Window': f'{i+1}-{i+window_size}',\n",
    "        'Real IPC(+1)': y[-1],\n",
    "        'Predicted IPC(+1)': y_pred_real[-1],\n",
    "        'MSE': mse_real\n",
    "    })"
   ]
  },
  {
   "cell_type": "code",
   "execution_count": null,
   "metadata": {},
   "outputs": [],
   "source": [
    "# --- 6. Виведення результатів та побудова графіка MSE ---\n",
    "df_results = pd.DataFrame(results)\n",
    "display(df_results)\n",
    "plt.figure(figsize=(10, 4))\n",
    "plt.plot(df_results['Window'], df_results['MSE'], marker='o')\n",
    "plt.xticks(rotation=45)\n",
    "plt.title("MSE for each window")\n",
    "plt.xlabel("Window")\n",
    "plt.ylabel("MSE")\n",
    "plt.grid(True)\n",
    "plt.show()"
   ]
  }
 ],
 "metadata": {
  "kernelspec": {
   "display_name": "Python 3",
   "language": "python",
   "name": "python3"
  },
  "language_info": {
   "name": "python",
   "version": ""
  }
 },
 "nbformat": 4,
 "nbformat_minor": 5
}
